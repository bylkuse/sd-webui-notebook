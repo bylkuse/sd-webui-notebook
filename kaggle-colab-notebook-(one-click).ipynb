{
  "metadata": {
    "kaggle": {
      "accelerator": "nvidiaTeslaT4",
      "dataSources": [
        {
          "sourceId": 6975307,
          "sourceType": "datasetVersion",
          "datasetId": 4006713
        }
      ],
      "isInternetEnabled": true,
      "language": "python",
      "sourceType": "notebook",
      "isGpuEnabled": true
    },
    "kernelspec": {
      "display_name": "Python 3",
      "language": "python",
      "name": "python3"
    },
    "language_info": {
      "codemirror_mode": {
        "name": "ipython",
        "version": 3
      },
      "file_extension": ".py",
      "mimetype": "text/x-python",
      "name": "python",
      "nbconvert_exporter": "python",
      "pygments_lexer": "ipython3",
      "version": "3.10.13"
    },
    "colab": {
      "provenance": []
    }
  },
  "nbformat_minor": 0,
  "nbformat": 4,
  "cells": [
    {
      "cell_type": "markdown",
      "source": [
        "[![Ask me on Discord](https://img.shields.io/badge/Ask%20me%20on%20Discord-blue?style=for-the-badge&logo=https://simpleicons.org/icons/discord.svg&link=https://discord.id/?prefill=512044995696525322)](https://discord.id/?prefill=512044995696525322)  [![](https://img.shields.io/static/v1?message=Open%20in%20Colab&logo=googlecolab&labelColor=5c5c5c&color=0f80c1&label=%20&style=for-the-badge)](https://colab.research.google.com/github/DEX-1101/sd-webui-notebook/blob/main/kaggle-colab-notebook-(one-click).ipynb) [![Visitors](https://api.visitorbadge.io/api/visitors?path=https%3A%2F%2Fgithub.com%2FDEX-1101%2Fsd-webui-notebook%2Fblob%2Fmain%2Fkaggle-colab-notebook.ipynb&countColor=%2337d67a)](https://visitorbadge.io/status?path=https%3A%2F%2Fgithub.com%2FDEX-1101%2Fsd-webui-notebook%2Fblob%2Fmain%2Fkaggle-colab-notebook.ipynb)"
      ],
      "metadata": {
        "id": "M72DV_vcqd65"
      }
    },
    {
      "cell_type": "markdown",
      "source": [
        "## One-click Notebook"
      ],
      "metadata": {
        "id": "Mg3E6Chyqd67"
      }
    },
    {
      "cell_type": "code",
      "source": [
        "!curl -s -OL https://github.com/DEX-1101/sd-webui-notebook/raw/main/res/one-click/x1101.py\n",
        "\n",
        "!python x1101.py --zrok_token \"tMJ1lEzO8Jk4\" --config \"https://raw.githubusercontent.com/DEX-1101/sd-webui-notebook/main/res/config.json\""
      ],
      "metadata": {
        "trusted": true,
        "id": "XFInzQX_qd67"
      },
      "execution_count": null,
      "outputs": []
    }
  ]
}
